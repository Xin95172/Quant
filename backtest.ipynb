{
 "cells": [
  {
   "cell_type": "code",
   "execution_count": 1,
   "id": "982e3dea",
   "metadata": {},
   "outputs": [],
   "source": [
    "%load_ext autoreload\n",
    "%autoreload 2\n",
    "import sys\n",
    "# sys.path.append(\"D:/Github/note/module\")                                  # for windows\n",
    "sys.path.append(\"/Users/xinc./Documents/GitHub/note/module\") \n",
    "from get_info_TWSE import GetInfoTWSE\n",
    "from get_info_FinMind import GetInfoFinMind\n",
    "import requests\n",
    "import pandas as pd\n",
    "import numpy as np\n",
    "from pprint import pprint"
   ]
  },
  {
   "cell_type": "markdown",
   "id": "7c09e550",
   "metadata": {},
   "source": [
    "# import data"
   ]
  },
  {
   "cell_type": "code",
   "execution_count": 18,
   "id": "adbcf227",
   "metadata": {},
   "outputs": [
    {
     "name": "stderr",
     "output_type": "stream",
     "text": [
      "c:\\Users\\ownme\\anaconda3\\envs\\quant\\Lib\\site-packages\\urllib3\\connectionpool.py:1097: InsecureRequestWarning: Unverified HTTPS request is being made to host 'www.twse.com.tw'. Adding certificate verification is strongly advised. See: https://urllib3.readthedocs.io/en/latest/advanced-usage.html#tls-warnings\n",
      "  warnings.warn(\n",
      "c:\\Users\\ownme\\anaconda3\\envs\\quant\\Lib\\site-packages\\urllib3\\connectionpool.py:1097: InsecureRequestWarning: Unverified HTTPS request is being made to host 'www.twse.com.tw'. Adding certificate verification is strongly advised. See: https://urllib3.readthedocs.io/en/latest/advanced-usage.html#tls-warnings\n",
      "  warnings.warn(\n",
      "c:\\Users\\ownme\\anaconda3\\envs\\quant\\Lib\\site-packages\\urllib3\\connectionpool.py:1097: InsecureRequestWarning: Unverified HTTPS request is being made to host 'www.twse.com.tw'. Adding certificate verification is strongly advised. See: https://urllib3.readthedocs.io/en/latest/advanced-usage.html#tls-warnings\n",
      "  warnings.warn(\n",
      "c:\\Users\\ownme\\anaconda3\\envs\\quant\\Lib\\site-packages\\urllib3\\connectionpool.py:1097: InsecureRequestWarning: Unverified HTTPS request is being made to host 'www.twse.com.tw'. Adding certificate verification is strongly advised. See: https://urllib3.readthedocs.io/en/latest/advanced-usage.html#tls-warnings\n",
      "  warnings.warn(\n",
      "c:\\Users\\ownme\\anaconda3\\envs\\quant\\Lib\\site-packages\\urllib3\\connectionpool.py:1097: InsecureRequestWarning: Unverified HTTPS request is being made to host 'www.twse.com.tw'. Adding certificate verification is strongly advised. See: https://urllib3.readthedocs.io/en/latest/advanced-usage.html#tls-warnings\n",
      "  warnings.warn(\n",
      "c:\\Users\\ownme\\anaconda3\\envs\\quant\\Lib\\site-packages\\urllib3\\connectionpool.py:1097: InsecureRequestWarning: Unverified HTTPS request is being made to host 'www.twse.com.tw'. Adding certificate verification is strongly advised. See: https://urllib3.readthedocs.io/en/latest/advanced-usage.html#tls-warnings\n",
      "  warnings.warn(\n"
     ]
    },
    {
     "data": {
      "text/html": [
       "<div>\n",
       "<style scoped>\n",
       "    .dataframe tbody tr th:only-of-type {\n",
       "        vertical-align: middle;\n",
       "    }\n",
       "\n",
       "    .dataframe tbody tr th {\n",
       "        vertical-align: top;\n",
       "    }\n",
       "\n",
       "    .dataframe thead th {\n",
       "        text-align: right;\n",
       "    }\n",
       "</style>\n",
       "<table border=\"1\" class=\"dataframe\">\n",
       "  <thead>\n",
       "    <tr style=\"text-align: right;\">\n",
       "      <th></th>\n",
       "      <th>Open</th>\n",
       "      <th>High</th>\n",
       "      <th>Low</th>\n",
       "      <th>Close</th>\n",
       "      <th>Volume</th>\n",
       "      <th>不能做空當沖</th>\n",
       "      <th>當日沖銷交易成交股數</th>\n",
       "      <th>當日沖銷交易買進成交金額</th>\n",
       "      <th>當日沖銷交易賣出成交金額</th>\n",
       "      <th>當沖佔交易量比例</th>\n",
       "      <th>BiasNorm</th>\n",
       "    </tr>\n",
       "    <tr>\n",
       "      <th>Timestamp</th>\n",
       "      <th></th>\n",
       "      <th></th>\n",
       "      <th></th>\n",
       "      <th></th>\n",
       "      <th></th>\n",
       "      <th></th>\n",
       "      <th></th>\n",
       "      <th></th>\n",
       "      <th></th>\n",
       "      <th></th>\n",
       "      <th></th>\n",
       "    </tr>\n",
       "  </thead>\n",
       "  <tbody>\n",
       "    <tr>\n",
       "      <th>2021-04-12</th>\n",
       "      <td>40.00</td>\n",
       "      <td>41.10</td>\n",
       "      <td>39.55</td>\n",
       "      <td>41.10</td>\n",
       "      <td>5305828.0</td>\n",
       "      <td></td>\n",
       "      <td>719000</td>\n",
       "      <td>28894900</td>\n",
       "      <td>29174150</td>\n",
       "      <td>0.135511</td>\n",
       "      <td>-0.004809</td>\n",
       "    </tr>\n",
       "    <tr>\n",
       "      <th>2021-04-13</th>\n",
       "      <td>41.50</td>\n",
       "      <td>43.20</td>\n",
       "      <td>40.00</td>\n",
       "      <td>40.20</td>\n",
       "      <td>16778030.0</td>\n",
       "      <td></td>\n",
       "      <td>8636000</td>\n",
       "      <td>360503100</td>\n",
       "      <td>361490850</td>\n",
       "      <td>0.514721</td>\n",
       "      <td>-0.001368</td>\n",
       "    </tr>\n",
       "    <tr>\n",
       "      <th>2021-04-14</th>\n",
       "      <td>40.55</td>\n",
       "      <td>40.70</td>\n",
       "      <td>38.30</td>\n",
       "      <td>39.25</td>\n",
       "      <td>4329838.0</td>\n",
       "      <td></td>\n",
       "      <td>1499000</td>\n",
       "      <td>59038000</td>\n",
       "      <td>59176900</td>\n",
       "      <td>0.346202</td>\n",
       "      <td>-0.001175</td>\n",
       "    </tr>\n",
       "    <tr>\n",
       "      <th>2021-04-15</th>\n",
       "      <td>39.00</td>\n",
       "      <td>39.85</td>\n",
       "      <td>38.85</td>\n",
       "      <td>39.40</td>\n",
       "      <td>1001929.0</td>\n",
       "      <td></td>\n",
       "      <td>215000</td>\n",
       "      <td>8435950</td>\n",
       "      <td>8475550</td>\n",
       "      <td>0.214586</td>\n",
       "      <td>-0.002342</td>\n",
       "    </tr>\n",
       "    <tr>\n",
       "      <th>2021-04-16</th>\n",
       "      <td>39.85</td>\n",
       "      <td>40.35</td>\n",
       "      <td>39.55</td>\n",
       "      <td>39.85</td>\n",
       "      <td>1075099.0</td>\n",
       "      <td></td>\n",
       "      <td>230000</td>\n",
       "      <td>9174650</td>\n",
       "      <td>9176750</td>\n",
       "      <td>0.213934</td>\n",
       "      <td>-0.000114</td>\n",
       "    </tr>\n",
       "  </tbody>\n",
       "</table>\n",
       "</div>"
      ],
      "text/plain": [
       "             Open   High    Low  Close      Volume 不能做空當沖  當日沖銷交易成交股數  \\\n",
       "Timestamp                                                               \n",
       "2021-04-12  40.00  41.10  39.55  41.10   5305828.0             719000   \n",
       "2021-04-13  41.50  43.20  40.00  40.20  16778030.0            8636000   \n",
       "2021-04-14  40.55  40.70  38.30  39.25   4329838.0            1499000   \n",
       "2021-04-15  39.00  39.85  38.85  39.40   1001929.0             215000   \n",
       "2021-04-16  39.85  40.35  39.55  39.85   1075099.0             230000   \n",
       "\n",
       "            當日沖銷交易買進成交金額  當日沖銷交易賣出成交金額  當沖佔交易量比例  BiasNorm  \n",
       "Timestamp                                                   \n",
       "2021-04-12      28894900      29174150  0.135511 -0.004809  \n",
       "2021-04-13     360503100     361490850  0.514721 -0.001368  \n",
       "2021-04-14      59038000      59176900  0.346202 -0.001175  \n",
       "2021-04-15       8435950       8475550  0.214586 -0.002342  \n",
       "2021-04-16       9174650       9176750  0.213934 -0.000114  "
      ]
     },
     "execution_count": 18,
     "metadata": {},
     "output_type": "execute_result"
    }
   ],
   "source": [
    "fetcher = GetInfoTWSE(certify = False)\n",
    "df = fetcher.init_df(\"8103\", \"2021-04-10\", \"2021-04-17\")\n",
    "df = fetcher.get_stock_price()\n",
    "df = fetcher.get_day_trading_info()\n",
    "df"
   ]
  },
  {
   "cell_type": "code",
   "execution_count": 37,
   "id": "58a7dcf9",
   "metadata": {},
   "outputs": [
    {
     "name": "stderr",
     "output_type": "stream",
     "text": [
      "\u001b[32m2025-09-14 14:10:00.063\u001b[0m | \u001b[1mINFO    \u001b[0m | \u001b[36mFinMind.data.finmind_api\u001b[0m:\u001b[36mget_data\u001b[0m:\u001b[36m158\u001b[0m - \u001b[1mdownload Dataset.TaiwanStockPrice, data_id: 2330\u001b[0m\n",
      "\u001b[32m2025-09-14 14:10:00.504\u001b[0m | \u001b[31m\u001b[1mERROR   \u001b[0m | \u001b[36mFinMind.utility.request\u001b[0m:\u001b[36mrequest_get\u001b[0m:\u001b[36m62\u001b[0m - \u001b[31m\u001b[1m{'dataset': <Dataset.TaiwanStockPrice: 'TaiwanStockPrice'>, 'data_id': '2330', 'securities_trader_id': '', 'stock_id': '', 'start_date': '2024-09-01', 'end_date': '2025-09-12', 'user_id': '', 'password': '', 'device': 'package'}\u001b[0m\n"
     ]
    },
    {
     "ename": "Exception",
     "evalue": "{\"msg\":\"Requests reach the upper limit. https://finmindtrade.com/\",\"status\":402}",
     "output_type": "error",
     "traceback": [
      "\u001b[31m---------------------------------------------------------------------------\u001b[39m",
      "\u001b[31mException\u001b[39m                                 Traceback (most recent call last)",
      "\u001b[36mCell\u001b[39m\u001b[36m \u001b[39m\u001b[32mIn[37]\u001b[39m\u001b[32m, line 3\u001b[39m\n\u001b[32m      1\u001b[39m fetcher = GetInfoFinMind()\n\u001b[32m      2\u001b[39m df = fetcher.init_df(stock_id = \u001b[33m\"\u001b[39m\u001b[33m2330\u001b[39m\u001b[33m\"\u001b[39m, start_time = \u001b[33m\"\u001b[39m\u001b[33m2024-09-01\u001b[39m\u001b[33m\"\u001b[39m, end_time = \u001b[33m\"\u001b[39m\u001b[33m2025-09-12\u001b[39m\u001b[33m\"\u001b[39m)\n\u001b[32m----> \u001b[39m\u001b[32m3\u001b[39m df = \u001b[43mfetcher\u001b[49m\u001b[43m.\u001b[49m\u001b[43mget_stock_price\u001b[49m\u001b[43m(\u001b[49m\u001b[43m)\u001b[49m\n\u001b[32m      4\u001b[39m df = fetcher.get_stock_holding_share_per()\n\u001b[32m      5\u001b[39m df\n",
      "\u001b[36mFile \u001b[39m\u001b[32m~/Documents/GitHub/note/module/get_info_FinMind.py:41\u001b[39m, in \u001b[36mGetInfoFinMind.get_stock_price\u001b[39m\u001b[34m(self, timeout)\u001b[39m\n\u001b[32m     38\u001b[39m     \u001b[38;5;28;01mraise\u001b[39;00m \u001b[38;5;167;01mRuntimeError\u001b[39;00m(\u001b[33m\"\u001b[39m\u001b[33mgo initing the base dataframe first\u001b[39m\u001b[33m\"\u001b[39m)\n\u001b[32m     40\u001b[39m \u001b[38;5;28;01mif\u001b[39;00m \u001b[38;5;28mself\u001b[39m.freq == \u001b[33m\"\u001b[39m\u001b[33mD\u001b[39m\u001b[33m\"\u001b[39m:\n\u001b[32m---> \u001b[39m\u001b[32m41\u001b[39m     px = \u001b[38;5;28;43mself\u001b[39;49m\u001b[43m.\u001b[49m\u001b[43mtaiwan_stock_daily\u001b[49m\u001b[43m(\u001b[49m\n\u001b[32m     42\u001b[39m \u001b[43m        \u001b[49m\u001b[43mstock_id\u001b[49m\u001b[43m \u001b[49m\u001b[43m=\u001b[49m\u001b[43m \u001b[49m\u001b[38;5;28;43mself\u001b[39;49m\u001b[43m.\u001b[49m\u001b[43mstock_id\u001b[49m\u001b[43m,\u001b[49m\n\u001b[32m     43\u001b[39m \u001b[43m        \u001b[49m\u001b[43mstart_date\u001b[49m\u001b[43m \u001b[49m\u001b[43m=\u001b[49m\u001b[43m \u001b[49m\u001b[38;5;28;43mself\u001b[39;49m\u001b[43m.\u001b[49m\u001b[43mstart_time\u001b[49m\u001b[43m,\u001b[49m\n\u001b[32m     44\u001b[39m \u001b[43m        \u001b[49m\u001b[43mend_date\u001b[49m\u001b[43m \u001b[49m\u001b[43m=\u001b[49m\u001b[43m \u001b[49m\u001b[38;5;28;43mself\u001b[39;49m\u001b[43m.\u001b[49m\u001b[43mend_time\u001b[49m\u001b[43m,\u001b[49m\n\u001b[32m     45\u001b[39m \u001b[43m        \u001b[49m\u001b[43mtimeout\u001b[49m\u001b[43m \u001b[49m\u001b[43m=\u001b[49m\u001b[43m \u001b[49m\u001b[43mtimeout\u001b[49m\n\u001b[32m     46\u001b[39m \u001b[43m    \u001b[49m\u001b[43m)\u001b[49m\n\u001b[32m     48\u001b[39m     px.rename(columns = {\n\u001b[32m     49\u001b[39m         \u001b[33m\"\u001b[39m\u001b[33mdate\u001b[39m\u001b[33m\"\u001b[39m: \u001b[33m\"\u001b[39m\u001b[33mDate\u001b[39m\u001b[33m\"\u001b[39m,\n\u001b[32m     50\u001b[39m         \u001b[33m\"\u001b[39m\u001b[33mstock_id\u001b[39m\u001b[33m\"\u001b[39m: \u001b[33m\"\u001b[39m\u001b[33mStock_id\u001b[39m\u001b[33m\"\u001b[39m,\n\u001b[32m   (...)\u001b[39m\u001b[32m     57\u001b[39m         \u001b[33m\"\u001b[39m\u001b[33mTrading_turnover\u001b[39m\u001b[33m\"\u001b[39m: \u001b[33m\"\u001b[39m\u001b[33mTurnover\u001b[39m\u001b[33m\"\u001b[39m\n\u001b[32m     58\u001b[39m     }, inplace = \u001b[38;5;28;01mTrue\u001b[39;00m)\n\u001b[32m     59\u001b[39m     name_list = [\u001b[33m\"\u001b[39m\u001b[33mDate\u001b[39m\u001b[33m\"\u001b[39m, \u001b[33m\"\u001b[39m\u001b[33mStock_id\u001b[39m\u001b[33m\"\u001b[39m, \u001b[33m\"\u001b[39m\u001b[33mOpen\u001b[39m\u001b[33m\"\u001b[39m, \u001b[33m\"\u001b[39m\u001b[33mHigh\u001b[39m\u001b[33m\"\u001b[39m, \u001b[33m\"\u001b[39m\u001b[33mLow\u001b[39m\u001b[33m\"\u001b[39m, \u001b[33m\"\u001b[39m\u001b[33mClose\u001b[39m\u001b[33m\"\u001b[39m, \u001b[33m\"\u001b[39m\u001b[33mVolume\u001b[39m\u001b[33m\"\u001b[39m, \u001b[33m\"\u001b[39m\u001b[33mTradingAmount\u001b[39m\u001b[33m\"\u001b[39m]\n",
      "\u001b[36mFile \u001b[39m\u001b[32m/opt/anaconda3/envs/day_trading/lib/python3.13/site-packages/FinMind/data/data_loader.py:94\u001b[39m, in \u001b[36mDataLoader.taiwan_stock_daily\u001b[39m\u001b[34m(self, stock_id, start_date, end_date, timeout)\u001b[39m\n\u001b[32m     68\u001b[39m \u001b[38;5;28;01mdef\u001b[39;00m\u001b[38;5;250m \u001b[39m\u001b[34mtaiwan_stock_daily\u001b[39m(\n\u001b[32m     69\u001b[39m     \u001b[38;5;28mself\u001b[39m,\n\u001b[32m     70\u001b[39m     stock_id: \u001b[38;5;28mstr\u001b[39m = \u001b[33m\"\u001b[39m\u001b[33m\"\u001b[39m,\n\u001b[32m   (...)\u001b[39m\u001b[32m     73\u001b[39m     timeout: \u001b[38;5;28mint\u001b[39m = \u001b[38;5;28;01mNone\u001b[39;00m,\n\u001b[32m     74\u001b[39m ) -> pd.DataFrame:\n\u001b[32m     75\u001b[39m \u001b[38;5;250m    \u001b[39m\u001b[33;03m\"\"\"get 台灣股價資料表\u001b[39;00m\n\u001b[32m     76\u001b[39m \u001b[33;03m    :param stock_id (str): 股票代號(\"2330\")\u001b[39;00m\n\u001b[32m     77\u001b[39m \u001b[33;03m    :param start_date (str): 開始日期(\"2018-01-01\")\u001b[39;00m\n\u001b[32m   (...)\u001b[39m\u001b[32m     92\u001b[39m \u001b[33;03m    :rtype column Trading_turnover (float)\u001b[39;00m\n\u001b[32m     93\u001b[39m \u001b[33;03m    \"\"\"\u001b[39;00m\n\u001b[32m---> \u001b[39m\u001b[32m94\u001b[39m     stock_price = \u001b[38;5;28;43mself\u001b[39;49m\u001b[43m.\u001b[49m\u001b[43mget_data\u001b[49m\u001b[43m(\u001b[49m\n\u001b[32m     95\u001b[39m \u001b[43m        \u001b[49m\u001b[43mdataset\u001b[49m\u001b[43m=\u001b[49m\u001b[43mDataset\u001b[49m\u001b[43m.\u001b[49m\u001b[43mTaiwanStockPrice\u001b[49m\u001b[43m,\u001b[49m\n\u001b[32m     96\u001b[39m \u001b[43m        \u001b[49m\u001b[43mdata_id\u001b[49m\u001b[43m=\u001b[49m\u001b[43mstock_id\u001b[49m\u001b[43m,\u001b[49m\n\u001b[32m     97\u001b[39m \u001b[43m        \u001b[49m\u001b[43mstart_date\u001b[49m\u001b[43m=\u001b[49m\u001b[43mstart_date\u001b[49m\u001b[43m,\u001b[49m\n\u001b[32m     98\u001b[39m \u001b[43m        \u001b[49m\u001b[43mend_date\u001b[49m\u001b[43m=\u001b[49m\u001b[43mend_date\u001b[49m\u001b[43m,\u001b[49m\n\u001b[32m     99\u001b[39m \u001b[43m        \u001b[49m\u001b[43mtimeout\u001b[49m\u001b[43m=\u001b[49m\u001b[43mtimeout\u001b[49m\u001b[43m,\u001b[49m\n\u001b[32m    100\u001b[39m \u001b[43m    \u001b[49m\u001b[43m)\u001b[49m\n\u001b[32m    101\u001b[39m     \u001b[38;5;28;01mreturn\u001b[39;00m stock_price\n",
      "\u001b[36mFile \u001b[39m\u001b[32m/opt/anaconda3/envs/day_trading/lib/python3.13/site-packages/FinMind/data/finmind_api.py:175\u001b[39m, in \u001b[36mFinMindApi.get_data\u001b[39m\u001b[34m(self, dataset, data_id, securities_trader_id, stock_id, start_date, data_id_list, end_date, timeout, use_async, max_retry_times)\u001b[39m\n\u001b[32m    173\u001b[39m url = \u001b[38;5;28mself\u001b[39m._dispatcher_url(dataset)\n\u001b[32m    174\u001b[39m logger.debug(params)\n\u001b[32m--> \u001b[39m\u001b[32m175\u001b[39m response = \u001b[43mrequest_get\u001b[49m\u001b[43m(\u001b[49m\n\u001b[32m    176\u001b[39m \u001b[43m    \u001b[49m\u001b[43murl\u001b[49m\u001b[43m,\u001b[49m\n\u001b[32m    177\u001b[39m \u001b[43m    \u001b[49m\u001b[43mparams\u001b[49m\u001b[43m=\u001b[49m\u001b[43mparams\u001b[49m\u001b[43m,\u001b[49m\n\u001b[32m    178\u001b[39m \u001b[43m    \u001b[49m\u001b[43mheaders\u001b[49m\u001b[43m=\u001b[49m\u001b[43mheaders\u001b[49m\u001b[43m,\u001b[49m\n\u001b[32m    179\u001b[39m \u001b[43m    \u001b[49m\u001b[43mtimeout\u001b[49m\u001b[43m=\u001b[49m\u001b[43mtimeout\u001b[49m\u001b[43m,\u001b[49m\n\u001b[32m    180\u001b[39m \u001b[43m\u001b[49m\u001b[43m)\u001b[49m.json()\n\u001b[32m    181\u001b[39m \u001b[38;5;28;01mreturn\u001b[39;00m pd.DataFrame(response[\u001b[33m\"\u001b[39m\u001b[33mdata\u001b[39m\u001b[33m\"\u001b[39m])\n",
      "\u001b[36mFile \u001b[39m\u001b[32m/opt/anaconda3/envs/day_trading/lib/python3.13/site-packages/FinMind/utility/request.py:63\u001b[39m, in \u001b[36mrequest_get\u001b[39m\u001b[34m(url, params, headers, timeout, max_retry_times)\u001b[39m\n\u001b[32m     61\u001b[39m \u001b[38;5;28;01melse\u001b[39;00m:\n\u001b[32m     62\u001b[39m     logger.error(params)\n\u001b[32m---> \u001b[39m\u001b[32m63\u001b[39m     \u001b[38;5;28;01mraise\u001b[39;00m \u001b[38;5;167;01mException\u001b[39;00m(response.text)\n\u001b[32m     64\u001b[39m \u001b[38;5;28;01mreturn\u001b[39;00m response\n",
      "\u001b[31mException\u001b[39m: {\"msg\":\"Requests reach the upper limit. https://finmindtrade.com/\",\"status\":402}"
     ]
    }
   ],
   "source": [
    "fetcher = GetInfoFinMind()\n",
    "df = fetcher.init_df(stock_id = \"2330\", start_time = \"2024-09-01\", end_time = \"2025-09-12\")\n",
    "df = fetcher.get_stock_price()\n",
    "df = fetcher.get_stock_holding_share_per()\n",
    "df"
   ]
  }
 ],
 "metadata": {
  "kernelspec": {
   "display_name": "day_trading",
   "language": "python",
   "name": "python3"
  },
  "language_info": {
   "codemirror_mode": {
    "name": "ipython",
    "version": 3
   },
   "file_extension": ".py",
   "mimetype": "text/x-python",
   "name": "python",
   "nbconvert_exporter": "python",
   "pygments_lexer": "ipython3",
   "version": "3.13.5"
  }
 },
 "nbformat": 4,
 "nbformat_minor": 5
}
