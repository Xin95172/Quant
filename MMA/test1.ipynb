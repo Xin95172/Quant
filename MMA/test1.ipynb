{
 "cells": [
  {
   "cell_type": "code",
   "execution_count": 164,
   "id": "af16571d",
   "metadata": {},
   "outputs": [],
   "source": [
    "from FinMind.data import DataLoader\n",
    "from alpha_vantage.timeseries import TimeSeries\n",
    "import requests\n",
    "from bs4 import BeautifulSoup\n",
    "import json\n",
    "import pandas as pd\n",
    "import numpy as np\n",
    "import matplotlib.pyplot as plt\n",
    "import time\n",
    "from datetime import datetime, timedelta\n",
    "from io import StringIO\n",
    "from pprint import pprint"
   ]
  },
  {
   "cell_type": "markdown",
   "id": "582d31c2",
   "metadata": {},
   "source": [
    "# question 1"
   ]
  },
  {
   "cell_type": "markdown",
   "id": "24190856",
   "metadata": {},
   "source": [
    "## get data"
   ]
  },
  {
   "cell_type": "code",
   "execution_count": null,
   "id": "9dca23c4",
   "metadata": {},
   "outputs": [],
   "source": [
    "def get_tw_stock_by_finmind(stock, start, end):\n",
    "    '''\n",
    "    By FinMind API\n",
    "    '''\n",
    "    dl = DataLoader()\n",
    "    \n",
    "    stock_data = dl.taiwan_stock_daily(stock_id = stock, start_date = start, end_date = end)\n",
    "    stock_data = stock_data[[\"Date\", \"open\", \"max\", \"min\", \"close\", \"Trading_Volume\"]]\n",
    "    stock_data = stock_data.rename(columns={\n",
    "        \"Date\": \"Date\",\n",
    "        \"open\": \"Open\",\n",
    "        \"max\": \"High\",\n",
    "        \"min\": \"Low\",\n",
    "        \"close\": \"Close\",\n",
    "        \"Trading_Volume\": \"Volume\"\n",
    "    })\n",
    "\n",
    "    stock_data[\"Date\"] = pd.to_datetime(stock_data[\"Date\"])\n",
    "    stock_data.set_index(\"Date\", inplace = True)\n",
    "\n",
    "    return stock_data"
   ]
  },
  {
   "cell_type": "markdown",
   "id": "19075941",
   "metadata": {},
   "source": [
    "#### FinMind 每天25次限制到了可以用 TWSE"
   ]
  },
  {
   "cell_type": "code",
   "execution_count": 238,
   "id": "9de0de09",
   "metadata": {},
   "outputs": [],
   "source": [
    "def fetch_tpex_stock_data(stock_code, date):\n",
    "    url = \"https://www.tpex.org.tw/www/zh-tw/afterTrading/tradingStock\"\n",
    "    headers = {\n",
    "        \"User-Agent\": \"Mozilla/5.0 (Macintosh; Intel Mac OS X 10_15_7) AppleWebKit/537.36 (KHTML, like Gecko) Chrome/135.0.0.0 Safari/537.36\"\n",
    "    }\n",
    "    payload = {\n",
    "        \"code\": stock_code,\n",
    "        \"date\": date,\n",
    "        \"id\": \"\",\n",
    "        \"response\": \"json\"\n",
    "    }\n",
    "    res = requests.post(url, headers=headers, data=payload)\n",
    "    data = json.loads(res.text)\n",
    "\n",
    "    rows = data[\"tables\"][0][\"data\"]\n",
    "    columns = data[\"tables\"][0][\"fields\"]\n",
    "\n",
    "    df = pd.DataFrame(rows, columns=columns)\n",
    "\n",
    "    df[[\"開盤\", \"最高\", \"最低\", \"收盤\"]] = df[[\"開盤\", \"最高\", \"最低\", \"收盤\"]].apply(pd.to_numeric, errors='coerce')\n",
    "    df = df[[\"日 期\", \"開盤\", \"最高\", \"最低\", \"收盤\", \"成交仟股\"]]\n",
    "    df.rename(columns={\n",
    "        \"日 期\": \"Date\",\n",
    "        \"開盤\": \"Open\",\n",
    "        \"最高\": \"High\",\n",
    "        \"最低\": \"Low\",\n",
    "        \"收盤\": \"Close\",\n",
    "        \"成交仟股\": \"Volume\"\n",
    "    }, inplace=True)\n",
    "    df = df.replace(',', '', regex=True)\n",
    "    df[\"Date\"] = df[\"Date\"].apply(convert_minguo_to_ad)\n",
    "    df[\"Date\"] = pd.to_datetime(df[\"Date\"], format=\"%Y/%m/%d\")\n",
    "\n",
    "    return df\n",
    "\n",
    "def fetch_twse_monthly_data(stock_id, year, month, fallback_to_tpex = True):\n",
    "    def convert_minguo_to_ad(date_str):\n",
    "        parts = date_str.split('/')\n",
    "        year = int(parts[0]) + 1911\n",
    "        return f\"{year}/{parts[1]}/{parts[2]}\"\n",
    "    \n",
    "    url = \"https://www.twse.com.tw/exchangeReport/STOCK_DAY\"\n",
    "    params = {\n",
    "        \"response\": \"json\",\n",
    "        \"date\": f\"{year}{month:02}01\",\n",
    "        \"stockNo\": stock_id\n",
    "    }\n",
    "\n",
    "    r = requests.get(url, params = params)\n",
    "    r.encoding = 'utf-8-sig'\n",
    "    data = r.json()\n",
    "\n",
    "    if data['stat'] != 'OK':\n",
    "        if fallback_to_tpex:\n",
    "            date = f\"{year}/{month:02}/01\"\n",
    "            return fetch_tpex_stock_data(stock_id, date)\n",
    "        return None\n",
    "\n",
    "    df = pd.DataFrame(data['data'], columns = data['fields'])\n",
    "\n",
    "    df['Date'] = df['日期'].apply(convert_minguo_to_ad)\n",
    "    df['Date'] = pd.to_datetime(df['Date'], format='%Y/%m/%d')\n",
    "    df.drop(columns=['日期'], inplace=True)\n",
    "    df = df.rename(columns={\n",
    "        '日期': 'Date',\n",
    "        '開盤價': 'Open',\n",
    "        '最高價': 'High',\n",
    "        '最低價': 'Low',\n",
    "        '收盤價': 'Close',\n",
    "        '成交股數': 'Volume'\n",
    "    })\n",
    "    df = df[['Date', 'Open', 'High', 'Low', 'Close', 'Volume']]\n",
    "    df = df.replace(',', '', regex = True)\n",
    "    df[['Open', 'High', 'Low', 'Close', 'Volume']] = df[['Open', 'High', 'Low', 'Close', 'Volume']].apply(pd.to_numeric, errors='coerce')\n",
    "\n",
    "    return df\n",
    "\n",
    "\n",
    "def get_tw_stock_by_twse(stock_id, start_date, end_date):\n",
    "    start = datetime.strptime(start_date, \"%Y-%m-%d\")\n",
    "    end = datetime.strptime(end_date, \"%Y-%m-%d\")\n",
    "\n",
    "    all_data = []\n",
    "    current = start.replace(day = 1)\n",
    "\n",
    "    while current <= end:\n",
    "        df = fetch_twse_monthly_data(stock_id, current.year, current.month)\n",
    "        if df is not None:\n",
    "            df['Date'] = pd.to_datetime(df['Date']) \n",
    "            df = df[(df['Date'] >= start) & (df['Date'] <= end)]\n",
    "            all_data.append(df)\n",
    "        current += timedelta(days=32)\n",
    "        current = current.replace(day=1)\n",
    "\n",
    "    result = pd.concat(all_data).sort_values('Date').set_index('Date')\n",
    "    return result"
   ]
  },
  {
   "cell_type": "code",
   "execution_count": 106,
   "id": "b6224875",
   "metadata": {},
   "outputs": [],
   "source": [
    "def get_american_stock(stock, start, end):\n",
    "    '''\n",
    "    By Alpha Vantage API\n",
    "    '''\n",
    "    with open(\"../data/api_key.json\", \"r\") as f:\n",
    "        api_key = json.load(f)[\"Alpha Vantage\"][\"api_key\"]\n",
    "    \n",
    "    ts = TimeSeries(key = api_key, output_format = 'pandas')\n",
    "    data, _ = ts.get_daily(symbol = stock, outputsize = 'full')\n",
    "    data.columns = ['Open', 'High', 'Low', 'Close', 'Volume']\n",
    "\n",
    "    data.index = pd.to_datetime(data.index)\n",
    "    data = data.sort_index(ascending = True)\n",
    "    data = data.loc[start : end]\n",
    "\n",
    "    return data"
   ]
  },
  {
   "cell_type": "code",
   "execution_count": 239,
   "id": "a5f46549",
   "metadata": {},
   "outputs": [
    {
     "name": "stdout",
     "output_type": "stream",
     "text": [
      "processing AMD...\n",
      "processing NVDA...\n",
      "processing 2330.TW...\n",
      "processing AAPL...\n",
      "processing 3324.TW...\n"
     ]
    }
   ],
   "source": [
    "tickers = {\n",
    "    'AMD': \"2024-05-10\",\n",
    "    'NVDA': \"2024-01-28\",\n",
    "    '2330.TW': \"2024-03-21\",\n",
    "    'AAPL': \"2023-12-05\",\n",
    "    '3324.TW': \"2024-01-12\"\n",
    "}\n",
    "\n",
    "total_df = pd.DataFrame()\n",
    "for ticker, date in tickers.items():\n",
    "    print(f\"processing {ticker}...\")\n",
    "    \n",
    "    if ticker.endswith('.TW'):\n",
    "        ticker = ticker.replace('.TW', '')\n",
    "        stock_data = get_tw_stock_by_twse(ticker, '2020-01-01', date)\n",
    "        stock_data = stock_data[\"Close\"]\n",
    "        stock_data = stock_data.rename(ticker)\n",
    "    else:\n",
    "        stock_data = get_american_stock(ticker, '2020-01-01', date)\n",
    "        stock_data = stock_data[\"Close\"]\n",
    "        stock_data = stock_data.rename(ticker)\n",
    "\n",
    "    total_df = pd.concat([total_df, stock_data], axis = 1)\n",
    "\n",
    "    time.sleep(1)"
   ]
  },
  {
   "cell_type": "code",
   "execution_count": 240,
   "id": "4f077995",
   "metadata": {},
   "outputs": [],
   "source": [
    "total_df.to_csv(\"stock_data.csv\")"
   ]
  },
  {
   "cell_type": "markdown",
   "id": "1e384c72",
   "metadata": {},
   "source": [
    "## risk reward ratio"
   ]
  },
  {
   "cell_type": "code",
   "execution_count": 284,
   "id": "56fc1d1b",
   "metadata": {},
   "outputs": [
    {
     "name": "stdout",
     "output_type": "stream",
     "text": [
      "      Net Profit  Max Drawdown  Risk/Reward Ratio\n",
      "AMD       102.82     -0.654499         157.097161\n",
      "NVDA      370.40     -0.864398         428.506122\n",
      "2330      339.00     -0.643495         526.810704\n",
      "AAPL     -106.93     -0.788891        -135.544655\n",
      "3324      128.00     -0.626132         204.429752\n"
     ]
    }
   ],
   "source": [
    "risk_reward_results = {}\n",
    "\n",
    "for ticker in total_df.columns:\n",
    "    series = total_df[ticker].dropna()\n",
    "\n",
    "    net_profit = series.iloc[-1] - series.iloc[0]\n",
    "    \n",
    "    running_max = series.cummax()\n",
    "    drawdown = (series - running_max) / running_max\n",
    "    max_drawdown = drawdown.min()\n",
    "    \n",
    "    if max_drawdown != 0:\n",
    "        risk_reward = net_profit / abs(max_drawdown)\n",
    "        risk_reward_results[ticker] = {\n",
    "            'Net Profit': net_profit,\n",
    "            'Max Drawdown': max_drawdown,\n",
    "            'Risk/Reward Ratio': risk_reward\n",
    "        }\n",
    "    else:\n",
    "        risk_reward_results[ticker] = {\n",
    "            'Net Profit': net_profit,\n",
    "            'Max Drawdown': max_drawdown,\n",
    "            'Risk/Reward Ratio': None\n",
    "        }\n",
    "\n",
    "risk_reward_df = pd.DataFrame(risk_reward_results).T\n",
    "\n",
    "print(risk_reward_df)"
   ]
  },
  {
   "cell_type": "markdown",
   "id": "ecc05489",
   "metadata": {},
   "source": [
    "# question2"
   ]
  },
  {
   "cell_type": "code",
   "execution_count": null,
   "id": "0104704d",
   "metadata": {},
   "outputs": [],
   "source": []
  },
  {
   "cell_type": "markdown",
   "id": "00d6a273",
   "metadata": {},
   "source": [
    "# question3"
   ]
  },
  {
   "cell_type": "code",
   "execution_count": 285,
   "id": "328ad821",
   "metadata": {},
   "outputs": [],
   "source": [
    "latest_prices = {}\n",
    "\n",
    "for ticker in total_df.columns:\n",
    "    last_valid_idx = total_df[ticker].last_valid_index()\n",
    "    latest_prices[ticker] = total_df.loc[last_valid_idx, ticker]\n",
    "latest_prices = pd.Series(latest_prices)\n",
    "latest_prices_df = latest_prices.reset_index()\n",
    "latest_prices_df.columns = [\"Ticker\", \"Current Price\"]\n",
    "latest_prices_df.drop(columns = [\"Ticker\"], inplace = True)\n",
    "\n",
    "risk_reward_df.reset_index(inplace = True)\n",
    "risk_reward_df = risk_reward_df[\"Risk/Reward Ratio\"]"
   ]
  },
  {
   "cell_type": "code",
   "execution_count": 298,
   "id": "d1185344",
   "metadata": {},
   "outputs": [],
   "source": [
    "test_df = pd.read_excel(\"/Users/xinc./Documents/GitHub/Quant/MMA/Quant_Test_File1.xlsx\")\n",
    "test_df = pd.concat([test_df, risk_reward_df], axis = 1)\n",
    "test_df = pd.concat([test_df, latest_prices_df], axis = 1)\n",
    "test_df.rename(columns = {\n",
    "    \"Stock\": \"Stock Name\",\n",
    "    \"Risk/Reward Ratio\": \"Risk Reward Ratio\"\n",
    "}, inplace = True)\n",
    "test_df = test_df[[\"Stock Name\", \"Current Price\", \"Upside\", \"Downside\", \"Risk Reward Ratio\"]]\n",
    "test_df.to_csv(\"question3.csv\", index = False)"
   ]
  }
 ],
 "metadata": {
  "kernelspec": {
   "display_name": "Python 3",
   "language": "python",
   "name": "python3"
  },
  "language_info": {
   "codemirror_mode": {
    "name": "ipython",
    "version": 3
   },
   "file_extension": ".py",
   "mimetype": "text/x-python",
   "name": "python",
   "nbconvert_exporter": "python",
   "pygments_lexer": "ipython3",
   "version": "3.9.6"
  }
 },
 "nbformat": 4,
 "nbformat_minor": 5
}
