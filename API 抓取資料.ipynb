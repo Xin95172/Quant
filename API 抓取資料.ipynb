{
 "cells": [
  {
   "cell_type": "code",
   "execution_count": null,
   "metadata": {},
   "outputs": [],
   "source": [
    "from binance.um_futures import UMFutures\n",
    "from binance.spot import Spot\n",
    "from binance.client import Client\n",
    "import time\n",
    "import numpy as np\n",
    "import pandas as pd\n",
    "import matplotlib as plot\n",
    "from datetime import datetime, timedelta\n",
    "import math\n",
    "import matplotlib.pyplot as plt\n",
    "from matplotlib import cm\n",
    "import csv"
   ]
  },
  {
   "cell_type": "markdown",
   "metadata": {},
   "source": [
    "#### Binance期貨資料下載"
   ]
  },
  {
   "cell_type": "code",
   "execution_count": null,
   "metadata": {},
   "outputs": [],
   "source": [
    "all_symbols = ['LINKUSDT','FTMUSDT','RUNEUSDT','UNIUSDT','GRTUSDT',\n",
    "               'RSRUSDT','TRBUSDT','MKBUSDT','AAVEUSDT','THETAUSDT',\n",
    "               'CRVUSDT','RAYUSDT','ZRXUSDT','SNXUSDT','XTZUSDT',]\n",
    "\n",
    "for ff in all_symbols:\n",
    "    # config_logging(logging, logging.DEBUG)\n",
    "    Futures_client = UMFutures(timeout = 5)\n",
    "\n",
    "    start_time_date = datetime(2022,1,1)\n",
    "    end_time_date = datetime(2024,5,10)\n",
    "    klines_raw = []\n",
    "\n",
    "    while start_time_date < end_time_date:\n",
    "        start_time_ts = datetime.timestamp(start_time_date)\n",
    "        klines_raw = klines_raw + Futures_client.klines(symbol = ff, interval = \"4h\", startTime = int(start_time_ts)*1000, limit = 500)\n",
    "        start_time_date = start_time_date + timedelta(hours=4*500)\n",
    "        time.sleep(30)\n",
    "\n",
    "    # preprocessing 1\n",
    "    headers = ['open_time', 'open', 'high', 'low', 'close', 'volume', 'close_time', 'quote_vol', '#trade', 'taker_buy_vol', 'taker_buy_quote_vol', 'ignore']\n",
    "    klines_df = pd.DataFrame(klines_raw, columns = headers, dtype=float)\n",
    "    klines_df.drop(columns=['ignore', 'quote_vol', 'taker_buy_quote_vol'], inplace=True)\n",
    "\n",
    "    # Convert timestamps to datetime objects\n",
    "    klines_df['open_time'] = list(map(lambda x: datetime.fromtimestamp(x/1000),klines_df['open_time']))\n",
    "    klines_df['close_time'] = list(map(lambda x: datetime.fromtimestamp(x/1000),klines_df['close_time']))\n",
    "    # preprocessing 4\n",
    "    first_day_of_week = 3 # the day of the week of the very first day of the interval\n",
    "    week_list = list((klines_df.index + first_day_of_week * 96) // 96 % 7)\n",
    "    klines_df['week'] = week_list\n",
    "\n",
    "    # Save dataframe to CSV file\n",
    "    klines_df.to_csv(ff + '_期貨.csv', index=False)\n"
   ]
  },
  {
   "cell_type": "markdown",
   "metadata": {},
   "source": [
    "#### Binance現貨資料下載"
   ]
  },
  {
   "cell_type": "code",
   "execution_count": null,
   "metadata": {},
   "outputs": [],
   "source": [
    "all_symbols = ['LINKUSDT','FTMUSDT','RUNEUSDT','UNIUSDT','GRTUSDT',\n",
    "               'RSRUSDT','TRBUSDT','MKBUSDT','AAVEUSDT','THETAUSDT',\n",
    "               'CRVUSDT','RAYUSDT','ZRXUSDT','SNXUSDT','XTZUSDT',]\n",
    "\n",
    "for ss in all_symbols:\n",
    "    # config_logging(logging, logging.DEBUG)\n",
    "    Spot_client = Spot(timeout = 5)\n",
    "\n",
    "    start_time_date = datetime(2022,1,1)\n",
    "    end_time_date = datetime(2024,5,10)\n",
    "    klines_raw = []\n",
    "\n",
    "    while start_time_date < end_time_date:\n",
    "        start_time_ts = datetime.timestamp(start_time_date)\n",
    "        klines_raw = klines_raw + Spot_client.klines(symbol = ss, interval = \"4h\", startTime = int(start_time_ts)*1000, limit = 500)\n",
    "        start_time_date = start_time_date + timedelta(hours=4*500)\n",
    "        time.sleep(30)\n",
    "\n",
    "    # preprocessing 1\n",
    "    headers = ['open_time', 'open', 'high', 'low', 'close', 'volume', 'close_time', 'quote_vol', '#trade', 'taker_buy_vol', 'taker_buy_quote_vol', 'ignore']\n",
    "    klines_df = pd.DataFrame(klines_raw, columns = headers, dtype=float)\n",
    "    klines_df.drop(columns=['ignore', 'quote_vol', 'taker_buy_quote_vol'], inplace=True)\n",
    "\n",
    "    # Convert timestamps to datetime objects\n",
    "    klines_df['open_time'] = list(map(lambda x: datetime.fromtimestamp(x/1000),klines_df['open_time']))\n",
    "    klines_df['close_time'] = list(map(lambda x: datetime.fromtimestamp(x/1000),klines_df['close_time']))\n",
    "    # preprocessing 4\n",
    "    first_day_of_week = 3 # the day of the week of the very first day of the interval\n",
    "    week_list = list((klines_df.index + first_day_of_week * 96) // 96 % 7)\n",
    "    klines_df['week'] = week_list\n",
    "\n",
    "    # Save dataframe to CSV file\n",
    "    klines_df.to_csv(ss + '_現貨.csv', index=False)"
   ]
  },
  {
   "cell_type": "markdown",
   "metadata": {},
   "source": [
    "#### Binance 資金費率下載"
   ]
  },
  {
   "cell_type": "code",
   "execution_count": null,
   "metadata": {},
   "outputs": [],
   "source": [
    "# 填入你的 Binance API key 和 secret\n",
    "api_key = 'SOvKFyvNT6rC6OZvJ569D8LxUCWW4PVQOliJKfZ0mfRC0R85W6KZVQnAEgzNWL9e'\n",
    "api_secret = 'OvtqqZCslAbfQvmt8SjrgASaJawebaNYa7sIgPBkFiBNCaiTS5RdAzXW7jR9OMnL'\n",
    "\n",
    "client = Client(api_key, api_secret)\n",
    "\n",
    "# 定義時間區段\n",
    "start_str = '2022-01-01'\n",
    "end_str = '2024-05-17'\n",
    "start_date = datetime.strptime(start_str, '%Y-%m-%d')\n",
    "end_date = datetime.strptime(end_str, '%Y-%m-%d')\n",
    "\n",
    "# 定義所需要的幣種\n",
    "symbols = ['LINKUSDT','FTMUSDT','RUNEUSDT','UNIUSDT','GRTUSDT',\n",
    "               'RSRUSDT','TRBUSDT','MKBUSDT','AAVEUSDT','THETAUSDT',\n",
    "               'CRVUSDT','RAYUSDT','ZRXUSDT','SNXUSDT','XTZUSDT',]\n",
    "\n",
    "# 定義每次請求所需要的時間段(避免一次要求太多)\n",
    "time_interval = timedelta(days=15)\n",
    "\n",
    "# 獲取數據並存到csv檔案裡面\n",
    "for symbol in symbols:\n",
    "    funding_rates = []\n",
    "    current_start = start_date\n",
    "    while current_start < end_date:\n",
    "        current_end = min(current_start + time_interval, end_date)\n",
    "        funding_rate_data = client.futures_funding_rate(\n",
    "            symbol=symbol,\n",
    "            startTime=int(current_start.timestamp() * 1000),\n",
    "            endTime=int(current_end.timestamp() * 1000)\n",
    "        )\n",
    "        funding_rates.extend(funding_rate_data)\n",
    "        current_start = current_end\n",
    "    \n",
    "    # 保存數據到各自的csv檔案\n",
    "    csv_file = f'{symbol}_funding_rates.csv'\n",
    "    with open(csv_file, mode='w', newline='') as file:\n",
    "        writer = csv.writer(file)\n",
    "        writer.writerow(['open_time', 'fundingRate'])\n",
    "        for rate in funding_rates:\n",
    "            # 轉換時間為UTC+0\n",
    "            funding_time_utc = datetime.utcfromtimestamp(rate['fundingTime'] / 1000).strftime('%Y/%m/%d %H:%M')\n",
    "            writer.writerow([funding_time_utc, rate['fundingRate']])\n",
    "    \n",
    "    print(f\"{symbol} 資金費率數據已保存到 {csv_file}\")"
   ]
  }
 ],
 "metadata": {
  "kernelspec": {
   "display_name": "Python 3",
   "language": "python",
   "name": "python3"
  },
  "language_info": {
   "codemirror_mode": {
    "name": "ipython",
    "version": 3
   },
   "file_extension": ".py",
   "mimetype": "text/x-python",
   "name": "python",
   "nbconvert_exporter": "python",
   "pygments_lexer": "ipython3",
   "version": "3.12.0"
  }
 },
 "nbformat": 4,
 "nbformat_minor": 2
}
